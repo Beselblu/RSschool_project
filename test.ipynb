{
 "cells": [
  {
   "cell_type": "code",
   "execution_count": 19,
   "metadata": {},
   "outputs": [],
   "source": [
    "import pandas as pd\n",
    "\n",
    "dataset = pd.read_csv('data/train.csv')"
   ]
  },
  {
   "cell_type": "code",
   "execution_count": 4,
   "metadata": {},
   "outputs": [
    {
     "name": "stdout",
     "output_type": "stream",
     "text": [
      "[    1     2     4 ... 15109 15111 15117]\n",
      "[    0     3     8 ... 15116 15118 15119]\n"
     ]
    }
   ],
   "source": [
    "from sklearn.model_selection import KFold\n",
    "\n",
    "kf = KFold(n_splits=2, shuffle=True, random_state=42)\n",
    "for train_index, val_index in kf.split(dataset):\n",
    "    print(train_index)"
   ]
  },
  {
   "cell_type": "code",
   "execution_count": 17,
   "metadata": {},
   "outputs": [
    {
     "data": {
      "text/plain": [
       "array([[    1,  2596,    51, ...,     0,     0,     5],\n",
       "       [    4,  2785,   155, ...,     0,     0,     2],\n",
       "       [    9,  2617,    45, ...,     0,     0,     5],\n",
       "       ...,\n",
       "       [15115,  2670,   108, ...,     0,     0,     3],\n",
       "       [15116,  2607,   243, ...,     0,     0,     3],\n",
       "       [15117,  2603,   121, ...,     0,     0,     3]], dtype=int64)"
      ]
     },
     "execution_count": 17,
     "metadata": {},
     "output_type": "execute_result"
    }
   ],
   "source": [
    "df = dataset.to_numpy()[train_index]\n",
    "df[:-2]"
   ]
  },
  {
   "cell_type": "code",
   "execution_count": 24,
   "metadata": {},
   "outputs": [
    {
     "name": "stdout",
     "output_type": "stream",
     "text": [
      "[    1     2     4 ... 15109 15111 15117] [    0     3     8 ... 15116 15118 15119]\n",
      "[    0     3     8 ... 15116 15118 15119] [    1     2     4 ... 15109 15111 15117]\n"
     ]
    }
   ],
   "source": [
    "from sklearn.model_selection import train_test_split\n",
    "\n",
    "dataset.columns = dataset.columns.str.lower()\n",
    "\n",
    "features = dataset.drop('cover_type', axis=1)\n",
    "target = dataset['cover_type']\n",
    "features_train, features_val, target_train, target_val = train_test_split(\n",
    "    features, target, test_size=0.3, random_state=42\n",
    ") \n",
    "\n",
    "kf = KFold(n_splits=2, shuffle=True, random_state=42)\n",
    "for train_index, val_index in kf.split(features, target):\n",
    "    print(train_index, val_index)"
   ]
  },
  {
   "cell_type": "code",
   "execution_count": 34,
   "metadata": {},
   "outputs": [
    {
     "data": {
      "text/plain": [
       "(5292, 55)"
      ]
     },
     "execution_count": 34,
     "metadata": {},
     "output_type": "execute_result"
    }
   ],
   "source": [
    "features_train.shape"
   ]
  },
  {
   "cell_type": "code",
   "execution_count": 40,
   "metadata": {},
   "outputs": [],
   "source": [
    "features = dataset.drop('cover_type', axis=1).to_numpy()\n",
    "target = dataset['cover_type'].to_numpy()\n",
    "features_train, features_val, target_train, target_val = train_test_split(\n",
    "    features, target, test_size=0.3, random_state=42\n",
    ")    \n",
    "\n",
    "kf = KFold(n_splits=2, shuffle=True, random_state=42)\n",
    "for train_index, target_index in kf.split(features_train, target_train):\n",
    "    X, y = features_train[train_index], target_train[target_index]"
   ]
  },
  {
   "cell_type": "code",
   "execution_count": 43,
   "metadata": {},
   "outputs": [
    {
     "data": {
      "text/plain": [
       "array([[  766,  2916,   228, ...,     0,     0,     0],\n",
       "       [ 6188,  2415,   270, ...,     0,     0,     0],\n",
       "       [ 9480,  3247,   186, ...,     0,     0,     0],\n",
       "       ...,\n",
       "       [11965,  2102,   100, ...,     0,     0,     0],\n",
       "       [  861,  2898,   254, ...,     0,     0,     0],\n",
       "       [ 7271,  3374,    78, ...,     1,     0,     0]], dtype=int64)"
      ]
     },
     "execution_count": 43,
     "metadata": {},
     "output_type": "execute_result"
    }
   ],
   "source": [
    "X"
   ]
  },
  {
   "cell_type": "code",
   "execution_count": 45,
   "metadata": {},
   "outputs": [
    {
     "data": {
      "text/plain": [
       "array([3, 2, 3, ..., 4, 4, 2], dtype=int64)"
      ]
     },
     "execution_count": 45,
     "metadata": {},
     "output_type": "execute_result"
    }
   ],
   "source": [
    "y.T"
   ]
  },
  {
   "cell_type": "code",
   "execution_count": 49,
   "metadata": {},
   "outputs": [
    {
     "data": {
      "text/html": [
       "<div>\n",
       "<style scoped>\n",
       "    .dataframe tbody tr th:only-of-type {\n",
       "        vertical-align: middle;\n",
       "    }\n",
       "\n",
       "    .dataframe tbody tr th {\n",
       "        vertical-align: top;\n",
       "    }\n",
       "\n",
       "    .dataframe thead th {\n",
       "        text-align: right;\n",
       "    }\n",
       "</style>\n",
       "<table border=\"1\" class=\"dataframe\">\n",
       "  <thead>\n",
       "    <tr style=\"text-align: right;\">\n",
       "      <th></th>\n",
       "      <th>id</th>\n",
       "      <th>elevation</th>\n",
       "      <th>aspect</th>\n",
       "      <th>slope</th>\n",
       "      <th>horizontal_distance_to_hydrology</th>\n",
       "      <th>vertical_distance_to_hydrology</th>\n",
       "      <th>horizontal_distance_to_roadways</th>\n",
       "      <th>hillshade_9am</th>\n",
       "      <th>hillshade_noon</th>\n",
       "      <th>hillshade_3pm</th>\n",
       "      <th>...</th>\n",
       "      <th>soil_type32</th>\n",
       "      <th>soil_type33</th>\n",
       "      <th>soil_type34</th>\n",
       "      <th>soil_type35</th>\n",
       "      <th>soil_type36</th>\n",
       "      <th>soil_type37</th>\n",
       "      <th>soil_type38</th>\n",
       "      <th>soil_type39</th>\n",
       "      <th>soil_type40</th>\n",
       "      <th>cover_type</th>\n",
       "    </tr>\n",
       "  </thead>\n",
       "  <tbody>\n",
       "    <tr>\n",
       "      <th>6187</th>\n",
       "      <td>6188</td>\n",
       "      <td>2415</td>\n",
       "      <td>270</td>\n",
       "      <td>29</td>\n",
       "      <td>108</td>\n",
       "      <td>43</td>\n",
       "      <td>1429</td>\n",
       "      <td>131</td>\n",
       "      <td>235</td>\n",
       "      <td>235</td>\n",
       "      <td>...</td>\n",
       "      <td>0</td>\n",
       "      <td>0</td>\n",
       "      <td>0</td>\n",
       "      <td>0</td>\n",
       "      <td>0</td>\n",
       "      <td>0</td>\n",
       "      <td>0</td>\n",
       "      <td>0</td>\n",
       "      <td>0</td>\n",
       "      <td>6</td>\n",
       "    </tr>\n",
       "  </tbody>\n",
       "</table>\n",
       "<p>1 rows × 56 columns</p>\n",
       "</div>"
      ],
      "text/plain": [
       "        id  elevation  aspect  slope  horizontal_distance_to_hydrology  \\\n",
       "6187  6188       2415     270     29                               108   \n",
       "\n",
       "      vertical_distance_to_hydrology  horizontal_distance_to_roadways  \\\n",
       "6187                              43                             1429   \n",
       "\n",
       "      hillshade_9am  hillshade_noon  hillshade_3pm  ...  soil_type32  \\\n",
       "6187            131             235            235  ...            0   \n",
       "\n",
       "      soil_type33  soil_type34  soil_type35  soil_type36  soil_type37  \\\n",
       "6187            0            0            0            0            0   \n",
       "\n",
       "      soil_type38  soil_type39  soil_type40  cover_type  \n",
       "6187            0            0            0           6  \n",
       "\n",
       "[1 rows x 56 columns]"
      ]
     },
     "execution_count": 49,
     "metadata": {},
     "output_type": "execute_result"
    }
   ],
   "source": [
    "dataset[dataset.id == 6188]"
   ]
  },
  {
   "cell_type": "code",
   "execution_count": 50,
   "metadata": {},
   "outputs": [
    {
     "data": {
      "text/plain": [
       "array([  0,  20,  40,  60,  80, 100, 120, 140, 160, 180])"
      ]
     },
     "execution_count": 50,
     "metadata": {},
     "output_type": "execute_result"
    }
   ],
   "source": [
    "np.arange(0, 200, 20)"
   ]
  },
  {
   "cell_type": "code",
   "execution_count": null,
   "metadata": {},
   "outputs": [],
   "source": [
    "from sklearn.linear_model import LogisticRegression\n",
    "from sklearn.ensemble import RandomForestClassifier\n",
    "import xgboost\n",
    "\n",
    "esatimator_pipline = {\n",
    "    'LogReg': LogisticRegression(),\n",
    "    'RFC': RandomForestClassifier(),\n",
    "    'XGB': xgboost(),\n",
    "}"
   ]
  }
 ],
 "metadata": {
  "kernelspec": {
   "display_name": "Python 3.9.12 ('rsschool-project-rg7Mn56h-py3.9')",
   "language": "python",
   "name": "python3"
  },
  "language_info": {
   "codemirror_mode": {
    "name": "ipython",
    "version": 3
   },
   "file_extension": ".py",
   "mimetype": "text/x-python",
   "name": "python",
   "nbconvert_exporter": "python",
   "pygments_lexer": "ipython3",
   "version": "3.9.12"
  },
  "orig_nbformat": 4,
  "vscode": {
   "interpreter": {
    "hash": "f90043984acef4384b1f00809dfbac53b4d4b3e1889a9bb2ecb1669bce4a7264"
   }
  }
 },
 "nbformat": 4,
 "nbformat_minor": 2
}
